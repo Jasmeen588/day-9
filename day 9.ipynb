{
 "cells": [
  {
   "cell_type": "markdown",
   "metadata": {},
   "source": [
    "# Assignment Day 9\n",
    "   submitted by: Jasmeen kaur                   "
   ]
  },
  {
   "cell_type": "markdown",
   "metadata": {},
   "source": [
    "# Question 1\n",
    "Write a python Function for finding is a given number prime or not and do Unit Testing on it using\n",
    "PyLint and Unittest Library.\n"
   ]
  },
  {
   "cell_type": "code",
   "execution_count": 2,
   "metadata": {},
   "outputs": [
    {
     "name": "stdout",
     "output_type": "stream",
     "text": [
      "Overwriting prime_num\n"
     ]
    }
   ],
   "source": [
    "%%writefile prime_num\n",
    "'''\n",
    "It is a function to check prime number\n",
    "'''\n",
    "def prim(num1):\n",
    "    '''\n",
    "    this is a prime Fuction\n",
    "    '''\n",
    "    if num1==1:\n",
    "        return False\n",
    "    for i in range(2,num1):\n",
    "        if num1%i==0:\n",
    "            return False\n",
    "        return True"
   ]
  },
  {
   "cell_type": "code",
   "execution_count": 3,
   "metadata": {},
   "outputs": [
    {
     "name": "stdout",
     "output_type": "stream",
     "text": [
      "Requirement already satisfied: pylint in c:\\users\\dell\\appdata\\local\\programs\\python\\python38\\lib\\site-packages (2.6.0)Note: you may need to restart the kernel to use updated packages.\n"
     ]
    },
    {
     "name": "stderr",
     "output_type": "stream",
     "text": [
      "WARNING: You are using pip version 20.1.1; however, version 20.2.3 is available.\n",
      "You should consider upgrading via the 'c:\\users\\dell\\appdata\\local\\programs\\python\\python38\\python.exe -m pip install --upgrade pip' command.\n"
     ]
    },
    {
     "name": "stdout",
     "output_type": "stream",
     "text": [
      "\n",
      "Requirement already satisfied: toml>=0.7.1 in c:\\users\\dell\\appdata\\local\\programs\\python\\python38\\lib\\site-packages (from pylint) (0.10.1)\n",
      "Requirement already satisfied: colorama; sys_platform == \"win32\" in c:\\users\\dell\\appdata\\local\\programs\\python\\python38\\lib\\site-packages (from pylint) (0.4.3)\n",
      "Requirement already satisfied: isort<6,>=4.2.5 in c:\\users\\dell\\appdata\\local\\programs\\python\\python38\\lib\\site-packages (from pylint) (5.5.2)\n",
      "Requirement already satisfied: astroid<=2.5,>=2.4.0 in c:\\users\\dell\\appdata\\local\\programs\\python\\python38\\lib\\site-packages (from pylint) (2.4.2)\n",
      "Requirement already satisfied: mccabe<0.7,>=0.6 in c:\\users\\dell\\appdata\\local\\programs\\python\\python38\\lib\\site-packages (from pylint) (0.6.1)\n",
      "Requirement already satisfied: wrapt~=1.11 in c:\\users\\dell\\appdata\\local\\programs\\python\\python38\\lib\\site-packages (from astroid<=2.5,>=2.4.0->pylint) (1.12.1)\n",
      "Requirement already satisfied: lazy-object-proxy==1.4.* in c:\\users\\dell\\appdata\\local\\programs\\python\\python38\\lib\\site-packages (from astroid<=2.5,>=2.4.0->pylint) (1.4.3)\n",
      "Requirement already satisfied: six~=1.12 in c:\\users\\dell\\appdata\\local\\programs\\python\\python38\\lib\\site-packages (from astroid<=2.5,>=2.4.0->pylint) (1.15.0)\n"
     ]
    }
   ],
   "source": [
    "pip install pylint"
   ]
  },
  {
   "cell_type": "code",
   "execution_count": 5,
   "metadata": {},
   "outputs": [
    {
     "name": "stdout",
     "output_type": "stream",
     "text": [
      "\n",
      "------------------------------------\n",
      "\n",
      "Your code has been rated at 10.00/10\n",
      "\n",
      "\n",
      "\n"
     ]
    }
   ],
   "source": [
    "! pylint \"prime_num\""
   ]
  },
  {
   "cell_type": "markdown",
   "metadata": {},
   "source": [
    "# Question 2\n",
    "Make a small generator program for returning armstrong numbers in between 1-1000 in a\n",
    "generator object. "
   ]
  },
  {
   "cell_type": "code",
   "execution_count": 8,
   "metadata": {},
   "outputs": [],
   "source": [
    "def gen_ams(first,last):\n",
    "    for num in range(first,last):\n",
    "        temp=num\n",
    "        sum=0\n",
    "        while temp>0:\n",
    "            digit=temp%10\n",
    "            sum=sum+digit**3\n",
    "            temp=temp//10\n",
    "\n",
    "        if sum==num:\n",
    "            print(num)"
   ]
  },
  {
   "cell_type": "code",
   "execution_count": 14,
   "metadata": {},
   "outputs": [
    {
     "name": "stdout",
     "output_type": "stream",
     "text": [
      "1\n",
      "153\n",
      "370\n",
      "371\n",
      "407\n",
      "None\n"
     ]
    }
   ],
   "source": [
    "print(gen_ams(1,1000))"
   ]
  },
  {
   "cell_type": "code",
   "execution_count": null,
   "metadata": {},
   "outputs": [],
   "source": []
  }
 ],
 "metadata": {
  "kernelspec": {
   "display_name": "Python 3",
   "language": "python",
   "name": "python3"
  },
  "language_info": {
   "codemirror_mode": {
    "name": "ipython",
    "version": 3
   },
   "file_extension": ".py",
   "mimetype": "text/x-python",
   "name": "python",
   "nbconvert_exporter": "python",
   "pygments_lexer": "ipython3",
   "version": "3.8.3"
  }
 },
 "nbformat": 4,
 "nbformat_minor": 4
}
